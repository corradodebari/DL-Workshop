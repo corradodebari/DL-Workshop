{
 "cells": [
  {
   "cell_type": "markdown",
   "metadata": {},
   "source": [
    "## Random Dataset preparation"
   ]
  },
  {
   "cell_type": "code",
   "execution_count": null,
   "metadata": {},
   "outputs": [],
   "source": [
    "! pwd"
   ]
  },
  {
   "cell_type": "code",
   "execution_count": null,
   "metadata": {},
   "outputs": [],
   "source": [
    "import os\n",
    "import random\n",
    "import shutil\n",
    "\n",
    "\n",
    "origin_dir = 'dataset'\n",
    "training_dir = origin_dir+'/'+'training'\n",
    "validation_dir = origin_dir+'/'+'validation'\n",
    "test_dir = origin_dir+'/'+'test'\n",
    "validation_size = 25   #percentage of files\n",
    "test_size = 10         #percentage of files\n",
    "\n",
    "\n",
    "\n",
    "dirs = [training_dir,validation_dir,test_dir]\n",
    "for directory in dirs:\n",
    "    if os.path.exists(directory):\n",
    "        shutil.rmtree(directory)"
   ]
  },
  {
   "cell_type": "code",
   "execution_count": null,
   "metadata": {},
   "outputs": [],
   "source": [
    "\n",
    "classes= [ name for name in os.listdir(origin_dir) if os.path.isdir(os.path.join(origin_dir, name)) ]\n",
    "\n",
    "for directory in dirs:\n",
    "    if not os.path.exists(directory):\n",
    "        os.makedirs(directory)\n",
    "\n",
    "def getRandomFile(path):\n",
    "  \"\"\"\n",
    "  Returns a random filename, chosen among the files of the given path.\n",
    "  \"\"\"\n",
    "  files = os.listdir(path)\n",
    "  index = random.randrange(0, len(files))\n",
    "  return files[index]\n",
    "\n",
    "def fileCount(path):\n",
    "    path, dirs, files = next(os.walk(path))\n",
    "    file_count = len(files)  \n",
    "    return file_count\n",
    "\n",
    "print (classes) \n",
    "      \n",
    "#shutil.move(\"path/to/current/file.foo\", \"path/to/new/destination/for/file.foo\")\n"
   ]
  },
  {
   "cell_type": "code",
   "execution_count": null,
   "metadata": {},
   "outputs": [],
   "source": [
    "for directory in dirs:\n",
    "    for object_class in classes:\n",
    "        if not os.path.exists(directory+'/'+object_class):\n",
    "            os.makedirs(directory+'/'+object_class)   \n",
    "        else:\n",
    "            shutil.rmtree(directory+'/'+object_class)\n",
    "            os.makedirs(directory+'/'+object_class)\n",
    "            \n"
   ]
  },
  {
   "cell_type": "code",
   "execution_count": null,
   "metadata": {},
   "outputs": [],
   "source": [
    "print(\"------------------\")\n",
    "print (\"VALIDATION\")\n",
    "for cls in classes:\n",
    "    print (cls)\n",
    "    dir = origin_dir+'/'+cls\n",
    "    print(dir)\n",
    "    print(\"files original:\"+str(fileCount(dir)))\n",
    "    print(\"file to extract:\"+str(int(fileCount(dir)*validation_size/100)))\n",
    "    for i in range (1,int(fileCount(dir)*validation_size/100)):\n",
    "        file=getRandomFile(origin_dir+'/'+cls)\n",
    "        #print(file)\n",
    "        shutil.move(dir+'/'+file, validation_dir+'/'+cls+'/'+file)"
   ]
  },
  {
   "cell_type": "code",
   "execution_count": null,
   "metadata": {},
   "outputs": [],
   "source": [
    "print(\"------------------\")\n",
    "print (\"TEST\")\n",
    "test_size = test_size*(100-validation_size)/100\n",
    "for cls in classes:\n",
    "    print (cls)\n",
    "    dir = origin_dir+'/'+cls\n",
    "    print(dir)\n",
    "    print(\"files original:\"+str(fileCount(dir)))\n",
    "    print(\"file to extract:\"+str (int(fileCount(dir)*test_size/100)))\n",
    "    for i in range (1, int(fileCount(dir)*test_size/100)):\n",
    "        file=getRandomFile(origin_dir+'/'+cls)\n",
    "        shutil.move(dir+'/'+file, test_dir+'/'+cls+'/'+file)\n"
   ]
  },
  {
   "cell_type": "code",
   "execution_count": null,
   "metadata": {},
   "outputs": [],
   "source": [
    "print(\"------------------\")\n",
    "print (\"TRAINING\")\n",
    "for cls in classes:\n",
    "    print (cls)\n",
    "    dir = origin_dir+'/'+cls\n",
    "    print(dir)\n",
    "    print(\"files original:\"+str(fileCount(dir)))\n",
    "    print(\"file to extract:\"+str (int(fileCount(dir))))\n",
    "    for i in range (1,int(fileCount(dir))+1):\n",
    "        #print(file)\n",
    "        file=getRandomFile(origin_dir+'/'+cls)\n",
    "        shutil.move(dir+'/'+file, training_dir+'/'+cls+'/'+file)"
   ]
  },
  {
   "cell_type": "code",
   "execution_count": null,
   "metadata": {},
   "outputs": [],
   "source": [
    "for cls in classes:\n",
    "    shutil.rmtree(origin_dir+'/'+cls)"
   ]
  },
  {
   "cell_type": "code",
   "execution_count": null,
   "metadata": {},
   "outputs": [],
   "source": []
  }
 ],
 "metadata": {
  "kernelspec": {
   "display_name": "Python 3",
   "language": "python",
   "name": "python3"
  },
  "language_info": {
   "codemirror_mode": {
    "name": "ipython",
    "version": 3
   },
   "file_extension": ".py",
   "mimetype": "text/x-python",
   "name": "python",
   "nbconvert_exporter": "python",
   "pygments_lexer": "ipython3",
   "version": "3.6.4"
  }
 },
 "nbformat": 4,
 "nbformat_minor": 2
}
